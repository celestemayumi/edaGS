{
 "cells": [
  {
   "cell_type": "code",
   "execution_count": 2,
   "metadata": {},
   "outputs": [],
   "source": [
    "import pandas as pd \n",
    "import matplotlib.pyplot as plt\n",
    "import seaborn as sns"
   ]
  },
  {
   "cell_type": "code",
   "execution_count": 6,
   "metadata": {},
   "outputs": [],
   "source": [
    "df = pd.read_csv('./datasets/3.csv')\n"
   ]
  },
  {
   "cell_type": "code",
   "execution_count": 7,
   "metadata": {},
   "outputs": [
    {
     "data": {
      "text/html": [
       "<div>\n",
       "<style scoped>\n",
       "    .dataframe tbody tr th:only-of-type {\n",
       "        vertical-align: middle;\n",
       "    }\n",
       "\n",
       "    .dataframe tbody tr th {\n",
       "        vertical-align: top;\n",
       "    }\n",
       "\n",
       "    .dataframe thead th {\n",
       "        text-align: right;\n",
       "    }\n",
       "</style>\n",
       "<table border=\"1\" class=\"dataframe\">\n",
       "  <thead>\n",
       "    <tr style=\"text-align: right;\">\n",
       "      <th></th>\n",
       "      <th>Entidade</th>\n",
       "      <th>Código</th>\n",
       "      <th>Ano</th>\n",
       "      <th>Participação da reciclagem do lixo total regional</th>\n",
       "      <th>Participação da queima do lixo total regional</th>\n",
       "      <th>Participação do lixo descartado e mal gerido do total regional</th>\n",
       "      <th>Participação do lixo encaminhado para aterros do total regional</th>\n",
       "    </tr>\n",
       "  </thead>\n",
       "  <tbody>\n",
       "    <tr>\n",
       "      <th>0</th>\n",
       "      <td>Americas (excl. USA)</td>\n",
       "      <td>NaN</td>\n",
       "      <td>2000</td>\n",
       "      <td>4.721963</td>\n",
       "      <td>1.220057</td>\n",
       "      <td>32.702644</td>\n",
       "      <td>61.355328</td>\n",
       "    </tr>\n",
       "    <tr>\n",
       "      <th>1</th>\n",
       "      <td>Americas (excl. USA)</td>\n",
       "      <td>NaN</td>\n",
       "      <td>2001</td>\n",
       "      <td>4.972505</td>\n",
       "      <td>1.208672</td>\n",
       "      <td>32.651270</td>\n",
       "      <td>61.167557</td>\n",
       "    </tr>\n",
       "    <tr>\n",
       "      <th>2</th>\n",
       "      <td>Americas (excl. USA)</td>\n",
       "      <td>NaN</td>\n",
       "      <td>2002</td>\n",
       "      <td>5.227469</td>\n",
       "      <td>1.197566</td>\n",
       "      <td>32.610554</td>\n",
       "      <td>60.964405</td>\n",
       "    </tr>\n",
       "  </tbody>\n",
       "</table>\n",
       "</div>"
      ],
      "text/plain": [
       "               Entidade  Código   Ano  \\\n",
       "0  Americas (excl. USA)     NaN  2000   \n",
       "1  Americas (excl. USA)     NaN  2001   \n",
       "2  Americas (excl. USA)     NaN  2002   \n",
       "\n",
       "    Participação da reciclagem do lixo total regional  \\\n",
       "0                                           4.721963    \n",
       "1                                           4.972505    \n",
       "2                                           5.227469    \n",
       "\n",
       "    Participação da queima do lixo total regional  \\\n",
       "0                                        1.220057   \n",
       "1                                        1.208672   \n",
       "2                                        1.197566   \n",
       "\n",
       "    Participação do lixo descartado e mal gerido do total regional  \\\n",
       "0                                          32.702644                 \n",
       "1                                          32.651270                 \n",
       "2                                          32.610554                 \n",
       "\n",
       "    Participação do lixo encaminhado para aterros do total regional  \n",
       "0                                          61.355328                 \n",
       "1                                          61.167557                 \n",
       "2                                          60.964405                 "
      ]
     },
     "execution_count": 7,
     "metadata": {},
     "output_type": "execute_result"
    }
   ],
   "source": [
    "df.head(3)"
   ]
  },
  {
   "cell_type": "code",
   "execution_count": 9,
   "metadata": {},
   "outputs": [
    {
     "name": "stdout",
     "output_type": "stream",
     "text": [
      "<class 'pandas.core.frame.DataFrame'>\n",
      "RangeIndex: 200 entries, 0 to 199\n",
      "Data columns (total 7 columns):\n",
      " #   Column                                                            Non-Null Count  Dtype  \n",
      "---  ------                                                            --------------  -----  \n",
      " 0   Entidade                                                          200 non-null    object \n",
      " 1    Código                                                           80 non-null     object \n",
      " 2    Ano                                                              200 non-null    int64  \n",
      " 3    Participação da reciclagem do lixo total regional                200 non-null    float64\n",
      " 4    Participação da queima do lixo total regional                    200 non-null    float64\n",
      " 5    Participação do lixo descartado e mal gerido do total regional   200 non-null    float64\n",
      " 6    Participação do lixo encaminhado para aterros do total regional  200 non-null    float64\n",
      "dtypes: float64(4), int64(1), object(2)\n",
      "memory usage: 11.1+ KB\n"
     ]
    }
   ],
   "source": [
    "df.info()"
   ]
  },
  {
   "cell_type": "code",
   "execution_count": 23,
   "metadata": {},
   "outputs": [
    {
     "data": {
      "text/html": [
       "<div>\n",
       "<style scoped>\n",
       "    .dataframe tbody tr th:only-of-type {\n",
       "        vertical-align: middle;\n",
       "    }\n",
       "\n",
       "    .dataframe tbody tr th {\n",
       "        vertical-align: top;\n",
       "    }\n",
       "\n",
       "    .dataframe thead th {\n",
       "        text-align: right;\n",
       "    }\n",
       "</style>\n",
       "<table border=\"1\" class=\"dataframe\">\n",
       "  <thead>\n",
       "    <tr style=\"text-align: right;\">\n",
       "      <th></th>\n",
       "      <th>Entidade</th>\n",
       "      <th>Código</th>\n",
       "      <th>Ano</th>\n",
       "      <th>Participação da reciclagem do lixo total regional</th>\n",
       "      <th>Participação da queima do lixo total regional</th>\n",
       "      <th>Participação do lixo descartado e mal gerido do total regional</th>\n",
       "      <th>Participação do lixo encaminhado para aterros do total regional</th>\n",
       "    </tr>\n",
       "  </thead>\n",
       "  <tbody>\n",
       "    <tr>\n",
       "      <th>194</th>\n",
       "      <td>World</td>\n",
       "      <td>OWID_WRL</td>\n",
       "      <td>2014</td>\n",
       "      <td>7.836343</td>\n",
       "      <td>17.219267</td>\n",
       "      <td>24.388899</td>\n",
       "      <td>50.555504</td>\n",
       "    </tr>\n",
       "  </tbody>\n",
       "</table>\n",
       "</div>"
      ],
      "text/plain": [
       "    Entidade    Código   Ano  \\\n",
       "194    World  OWID_WRL  2014   \n",
       "\n",
       "      Participação da reciclagem do lixo total regional  \\\n",
       "194                                           7.836343    \n",
       "\n",
       "      Participação da queima do lixo total regional  \\\n",
       "194                                       17.219267   \n",
       "\n",
       "      Participação do lixo descartado e mal gerido do total regional  \\\n",
       "194                                          24.388899                 \n",
       "\n",
       "      Participação do lixo encaminhado para aterros do total regional  \n",
       "194                                          50.555504                 "
      ]
     },
     "execution_count": 23,
     "metadata": {},
     "output_type": "execute_result"
    }
   ],
   "source": [
    "df.sample()"
   ]
  },
  {
   "cell_type": "code",
   "execution_count": null,
   "metadata": {},
   "outputs": [],
   "source": [
    "plt.figure(figsize=(9, 5))\n",
    "sns.barplot(x=df['Ano'], y=continent['Participação na emissão global de plásticos para o oceano'], palette= 'bright', hue= continent['Entidade'])\n",
    "\n",
    "plt.title('Participação na emissão global de plásticos para o oceano por continentes no ano de 2019')\n",
    "plt.ylabel('')\n",
    "plt.xlabel('')\n",
    "\n",
    "plt.show()"
   ]
  }
 ],
 "metadata": {
  "kernelspec": {
   "display_name": "Python 3",
   "language": "python",
   "name": "python3"
  },
  "language_info": {
   "codemirror_mode": {
    "name": "ipython",
    "version": 3
   },
   "file_extension": ".py",
   "mimetype": "text/x-python",
   "name": "python",
   "nbconvert_exporter": "python",
   "pygments_lexer": "ipython3",
   "version": "3.11.5"
  }
 },
 "nbformat": 4,
 "nbformat_minor": 2
}
